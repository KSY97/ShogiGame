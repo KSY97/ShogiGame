{
  "nbformat": 4,
  "nbformat_minor": 0,
  "metadata": {
    "colab": {
      "provenance": [],
      "collapsed_sections": []
    },
    "kernelspec": {
      "name": "python3",
      "display_name": "Python 3"
    },
    "language_info": {
      "name": "python"
    }
  },
  "cells": [
    {
      "cell_type": "markdown",
      "source": [
        "#Game"
      ],
      "metadata": {
        "id": "neuFL5p30c1s"
      }
    },
    {
      "cell_type": "code",
      "execution_count": 1,
      "metadata": {
        "id": "jBBxhG4lYjHS"
      },
      "outputs": [],
      "source": [
        "import numpy as np"
      ]
    },
    {
      "cell_type": "code",
      "source": [
        "# 게임 상태\n",
        "class State:\n",
        "  # 초기 변수세팅\n",
        "  def __init__(self,form, enemy_form, pieces=None, enemy_pieces=None, depth=0):\n",
        "    self.pieces = pieces if pieces != None else  123421431414\n",
        "    # [0,0,0,0,0,0,0,0,0,\n",
        "    # 0,0,0,0,0,0,0,0,0,\n",
        "    # 0,0,0,0,0,0,0,0,0,\n",
        "    # 0,0,0,0,0,0,0,0,0,\n",
        "    # 0,0,0,0,0,0,0,0,0,\n",
        "    # 0,0,0,0,0,0,0,0,0,\n",
        "    # 1,0,1,0,1,0,1,0,1,\n",
        "    # 0,5,0,0,0,0,0,5,0,\n",
        "    # 0,0,0,0,7,0,0,0,0,\n",
        "    # 6,0,0,2,0,2,0,0,6]\n",
        "      \n",
        "    self.enemy_pieces = enemy_pieces if enemy_pieces != None else 1341341341341234\n",
        "    # [0,0,0,0,0,0,0,0,0,\n",
        "    # 0,0,0,0,0,0,0,0,0,\n",
        "    # 0,0,0,0,0,0,0,0,0,\n",
        "    # 0,0,0,0,0,0,0,0,0,\n",
        "    # 0,0,0,0,0,0,0,0,0,\n",
        "    # 0,0,0,0,0,0,0,0,0,\n",
        "    # 1,0,1,0,1,0,1,0,1,\n",
        "    # 0,5,0,0,0,0,0,5,0,\n",
        "    # 0,0,0,0,7,0,0,0,0,\n",
        "    # 6,0,0,2,0,2,0,0,6]\n",
        "   \n"
      ],
      "metadata": {
        "id": "TG0lVw9n0bou"
      },
      "execution_count": 42,
      "outputs": []
    },
    {
      "cell_type": "code",
      "source": [
        "# for i in range(90):\n",
        "#   if i < 9:\n",
        "#     print(i, ' ', end ='')\n",
        "#   if i % 9 == 0 and i > 0:\n",
        "#     print('\\n')  \n",
        "#   if i >= 9:\n",
        "#     print(i,'', end ='')"
      ],
      "metadata": {
        "colab": {
          "base_uri": "https://localhost:8080/"
        },
        "id": "xskdggii9KR2",
        "outputId": "aa122bbc-5ad8-4f48-f708-c78d84a09f8e"
      },
      "execution_count": 23,
      "outputs": [
        {
          "output_type": "stream",
          "name": "stdout",
          "text": [
            "0  1  2  3  4  5  6  7  8  \n",
            "\n",
            "9 10 11 12 13 14 15 16 17 \n",
            "\n",
            "18 19 20 21 22 23 24 25 26 \n",
            "\n",
            "27 28 29 30 31 32 33 34 35 \n",
            "\n",
            "36 37 38 39 40 41 42 43 44 \n",
            "\n",
            "45 46 47 48 49 50 51 52 53 \n",
            "\n",
            "54 55 56 57 58 59 60 61 62 \n",
            "\n",
            "63 64 65 66 67 68 69 70 71 \n",
            "\n",
            "72 73 74 75 76 77 78 79 80 \n",
            "\n",
            "81 82 83 84 85 86 87 88 89 "
          ]
        }
      ]
    },
    {
      "cell_type": "code",
      "source": [
        "# 순서 -> 상우하좌                                                                         #인덱스\n",
        "dxy = [[0, -1], [0, -2], [0, -3], [0, -4], [0, -5], [0, -6], [0, -7], [0, -8], [0, -9], # 0-8  차,졸,포,사,왕\n",
        "       [1, 0], [2, 0], [3, 0], [4, 0], [5, 0], [6, 0], [7, 0], [8, 0],                  # 9-16\n",
        "       [0, 1], [0, 2], [0, 3], [0, 4], [0, 5], [0, 6], [0, 7], [0, 8], [0, 9],          # 17-25\n",
        "       [-1, 0], [-2, 0], [-3, 0], [-4, 0], [-5, 0], [-6, 0], [-7, 0], [-8, 0],          # 26-33\n",
        "       [1, -2], [2, -1], [2, 1], [1, 2], [-1, 2], [-2, 1], [-2, -1], [-1, -2],          # 34-41  마\n",
        "       [2, -3], [3, -2], [3, 2], [2, 3], [-2, 3], [-3, 2], [-3, -2], [-2, -3],          # 42-49  상\n",
        "       [1, -1], [2, -2], [1, 1], [2, 2], [-1, 1], [-2, 2], [-1, -1], [-2, -2]]          # 50-57 궁성안의 대각선 움직임\n"
      ],
      "metadata": {
        "id": "shRQ36u3t9ee"
      },
      "execution_count": 43,
      "outputs": []
    },
    {
      "cell_type": "code",
      "source": [
        "# 말의 이동 도착 위치 및 이동 시작 위치를 행동으로 변환                                                                        \n",
        "def position_to_action(self, position, direction):\n",
        "  return position * 58 + direction"
      ],
      "metadata": {
        "id": "aWMndOBBYEQA"
      },
      "execution_count": null,
      "outputs": []
    },
    {
      "cell_type": "code",
      "source": [
        "# 행동을 말의 이동 도착 위치 및 이동 시작 위치로 변환\n",
        "def action_to_position(self, action):\n",
        "    return (int(action / 58), action % 58)"
      ],
      "metadata": {
        "id": "Xrfap_MRYa-w"
      },
      "execution_count": null,
      "outputs": []
    },
    {
      "cell_type": "code",
      "source": [
        "# 가능한 행동 함수\n",
        "def legal_actions(self):\n",
        "  actions = []\n",
        "  for p in range(90):\n",
        "    if self.pieces[p] != 0:\n",
        "      actions.extend(self.legal_actions_pos(p))\n",
        "  return actions "
      ],
      "metadata": {
        "id": "j3haQCTChxim"
      },
      "execution_count": 70,
      "outputs": []
    },
    {
      "cell_type": "code",
      "source": [
        "# 각 기물들의 모든 이동가능한 방향 함수\n",
        "def legal_actions_pos(self, position_src):\n",
        "  # 말이 이동 가능한 방향\n",
        "  piece_type = self.pieces[position_src]\n",
        "  if piece_type == 1: # 차\n",
        "    directions = [0, 1, 2, 3, 4, 5, 6, 7, 8, 9, 10, 11, 12, 13, 14, 15, 16, 17,\n",
        "                  18, 19, 20, 21, 22, 23, 24, 25, 26, 27, 28, 29, 30, 31, 32, 33,\n",
        "                  50, 51, 52, 53, 54, 55, 56, 57]\n",
        "    return illegal_actions(directions, position_src)\n",
        "  \n",
        "  elif piece_type == 2: #졸\n",
        "    directions = [0, 9, 26, 50, 56] \n",
        "    return illegal_actions(directions, position_src)\n",
        "  \n",
        "  elif piece_type == 3: #마\n",
        "    directions = [34, 35, 36, 37, 38, 39, 40, 41]\n",
        "    return illegal_actions(directions, position_src)\n",
        "  \n",
        "  elif piece_type == 4: #포\n",
        "    directions = [0, 1, 2, 3, 4, 5, 6, 7, 8, 9, 10, 11, 12, 13, 14, 15, 16, 17,\n",
        "              18, 19, 20, 21, 22, 23, 24, 25, 26, 27, 28, 29, 30, 31, 32, 33,\n",
        "              51, 53, 55, 57]\n",
        "    return illegal_actions(directions, position_src)\n",
        "  \n",
        "  elif piece_type == 5: #사\n",
        "    directions = [0, 9, 17, 26, 50, 52, 54, 56]\n",
        "    return illegal_actions(directions, position_src)\n",
        "  \n",
        "  elif piece_type == 6: #상\n",
        "    directions = [42, 43, 44, 45, 46, 47, 48, 49]\n",
        "    return illegal_actions(directions, position_src)\n",
        "  \n",
        "  elif piece_type == 7: #왕\n",
        "    directions = [0, 9, 17, 26, 50, 52, 54, 56]\n",
        "    return illegal_actions(directions, position_src)"
      ],
      "metadata": {
        "id": "17PG1aDIj_xu"
      },
      "execution_count": null,
      "outputs": []
    },
    {
      "cell_type": "code",
      "source": [
        "# 행동할 수 없는 수 걸러주는 함수\n",
        "def illegal_actions(self, directions, position_src): \n",
        "  actions = []\n",
        "  dierction = []\n",
        "\n",
        "  # 말의 이동 전 위치 좌표 얻기\n",
        "  bef_x = position_src % 9\n",
        "  bef_y = int(position_src / 9)\n",
        "\n",
        "  # 합법적인 수 얻기\n",
        "  for direction in directions:\n",
        "    \n",
        "    # 말의 이동 후 위치\n",
        "    x = position_src % 9 + self.dxy[direction][0] # 방향정수의 x축\n",
        "    y = int(position_src / 9) + self.dxy[direction][1] # 방향정수의 y축\n",
        "    p = x + y * 9 # 9진수 화 \n",
        "\n",
        "\n",
        "    # 이동이 불가능 한 수들 걸러내기\n",
        "\n",
        "    # 이동한 후의 위치가 보드판의 범위를 벗어나지 않았을 때\n",
        "    if 0 <= x and x <= 8 and 0 <= y and y <= 9 and self.pieces[p] == 0: \n",
        "  \n",
        "      # 이동경로가 막혀 있는 경우\n",
        "\n",
        "      # 차\n",
        "      if self.pieces[position_src] == 1:\n",
        "        # x축의 경우\n",
        "        if dxy[direction][0] != 0 and dxy[direction][1] == 0:\n",
        "          # 우 \n",
        "          for path in range(1, dxy[direction][0]):\n",
        "            if self.enemy_pieces[89 - (bef_x + path) + bef_y * 9] != 0: # 상대편 보드에 기물이 있다면 행동추가 하고 break \n",
        "              actions.append(self.position_to_action(p, direction))\n",
        "              break\n",
        "            elif self.pieces[(bef_x + path) + bef_y * 9] != 0: # 내 보드에 기물이 있다면 그냥 break\n",
        "              break\n",
        "            else:\n",
        "              actions.append(self.position_to_action(p, direction)) # 둘다 아닐 경우 행동추가\n",
        "          # 좌\n",
        "          for n_path in range(-1, dxy[direction][0], -1):\n",
        "            if self.enemy_pieces[89 - (bef_x + n_path) + bef_y * 9] != 0:\n",
        "              actions.append(self.position_to_action(p, direction))\n",
        "              break\n",
        "            elif self.pieces[(bef_x + n_path) + bef_y * 9] != 0:\n",
        "              break\n",
        "            else:\n",
        "              actions.append(self.position_to_action(p, direction))\n",
        "        # y축의 경우\n",
        "        if dxy[direction][1] != 0 and dxy[direction][0] == 0: \n",
        "          # 하\n",
        "          for path in range(1, dxy[direction][1]):\n",
        "            if self.enemy_pieces[89 - bef_x + (bef_y+ path) * 9] != 0:\n",
        "              actions.append(self.position_to_action(p, direction))\n",
        "              break\n",
        "            elif self.pieces[bef_x + (bef_y+ path) * 9] != 0:\n",
        "              break\n",
        "            else:\n",
        "              actions.append(self.position_to_action(p, direction))\n",
        "          # 상\n",
        "          for n_path in range(-1, dxy[direction][0], -1):\n",
        "            if self.enemy_pieces[89 - bef_x + (bef_y+ path) * 9] != 0:\n",
        "              actions.append(self.position_to_action(p, direction))\n",
        "              break\n",
        "            elif self.pieces[bef_x + (bef_y+ path) * 9] != 0:\n",
        "              break\n",
        "            else:\n",
        "              actions.append(self.position_to_action(p, direction))\n",
        "        # 궁성안에 기물이 있을 때 대각선 행동 추가\n",
        "        if dxy[direction][1] != 0 and dxy[direction][0] != 0:\n",
        "          if position_src == 68 or position_src == 5:\n",
        "            if (dxy[direction][1] == -1 and dxy[direction][0] == 1) or (dxy[direction][1] == -2 and dxy[direction][0] == 2):\n",
        "              actions.append(self.position_to_action(p, direction))\n",
        "          if position_src == 86 or position_src == 23:\n",
        "            if (dxy[direction][1] == -1 and dxy[direction][0] == -1) or (dxy[direction][1] == -2 and dxy[direction][0] == -2):\n",
        "              actions.append(self.position_to_action(p, direction))\n",
        "          if position_src == 84 or position_src == 21:\n",
        "            if (dxy[direction][1] == 1 and dxy[direction][0] == -1) or (dxy[direction][1] == 2 and dxy[direction][0] == -2):\n",
        "              actions.append(self.position_to_action(p, direction))\n",
        "          if position_src == 66 or position_src == 3:\n",
        "            if (dxy[direction][1] == 1 and dxy[direction][0] == 1) or (dxy[direction][1] == 2 and dxy[direction][0] == 2):\n",
        "              actions.append(self.position_to_action(p, direction))\n",
        "          if position_src == 76 or position_src == 13:\n",
        "            if (dxy[direction][1] == 1 and dxy[direction][0] == -1) or (dxy[direction][1] == 1 and dxy[direction][0] == 1) or (dxy[direction][1] == -1 and dxy[direction][0] == 1) or (dxy[direction][1] == -1 and dxy[direction][0] == -1):\n",
        "              actions.append(self.position_to_action(p, direction))\n",
        "\n",
        "\n",
        "      # 졸\n",
        "      elif self.pieces[position_src] == 2:\n",
        "        actions.append(self.position_to_action(p, direction))\n",
        "      # 궁성안에 기물이 있을 때 대각선 행동 추가\n",
        "      if dxy[direction][1] != 0 and dxy[direction][0] != 0:\n",
        "        if position_src == 23:\n",
        "          if (dxy[direction][1] == -1 and dxy[direction][0] == -1):\n",
        "            actions.append(self.position_to_action(p, direction))\n",
        "        if position_src == 21:\n",
        "          if (dxy[direction][1] == 1 and dxy[direction][0] == -1):\n",
        "            actions.append(self.position_to_action(p, direction))\n",
        "        if position_src == 66 or position_src == 3:\n",
        "          if (dxy[direction][1] == 1 and dxy[direction][0] == 1) or (dxy[direction][1] == 2 and dxy[direction][0] == 2):\n",
        "            actions.append(self.position_to_action(p, direction))\n",
        "        if position_src == 13:\n",
        "          if (dxy[direction][1] == 1 and dxy[direction][0] == -1) or (dxy[direction][1] == -1 and dxy[direction][0] == -1):\n",
        "            actions.append(self.position_to_action(p, direction))\n",
        "      \n",
        "      # 마\n",
        "      elif self.pieces[position_src] == 3:\n",
        "        # 상\n",
        "        if self.pieces[bef_x + (bef_y - 1) * 9] and self.enemy_pieces[89 - bef_x + (bef_y - 1) * 9] == 0:\n",
        "          actions.append(self.position_to_action(p, direction))\n",
        "        # 우\n",
        "        if self.pieces[(bef_x + 1) + bef_y * 9] and self.enemy_pieces[89 - (bef_x + 1) + bef_y * 9] == 0:\n",
        "          actions.append(self.position_to_action(p, direction)) \n",
        "        # 하         \n",
        "        if self.pieces[bef_x + (bef_y + 1) * 9] and self.enemy_pieces[89 - bef_x + (bef_y + 1) * 9] == 0:\n",
        "          actions.append(self.position_to_action(p, direction))\n",
        "        # 좌\n",
        "        if self.pieces[(bef_x - 1) + bef_y * 9] and self.enemy_pieces[89 - (bef_x - 1) + bef_y * 9] == 0:\n",
        "          actions.append(self.position_to_action(p, direction))\n",
        "\n",
        "      # 포\n",
        "      elif self.pieces[position_src] == 4:\n",
        "        # 이동 후의 위치에 적의 포가 없을 때 실행\n",
        "        if self.enemy_pieces[p] != 4: \n",
        "          # x축의 경우\n",
        "          if dxy[direction][0] != 0 and dxy[direction][1] == 0:\n",
        "            # 우\n",
        "            is_po = False \n",
        "            for path in range(1, dxy[direction][0]):\n",
        "              if self.pieces[(bef_x + path) + bef_y * 9] != 0 or self.enemy_pieces[89 - (bef_x + path) + bef_y * 9] != 0: # 경로 중 뛰어 넘어 갈 기물이 있다면\n",
        "                if self.pieces[(bef_x + path) + y * 9] != 4 and self.enemy_pieces[89 - (bef_x + path) + y * 9] != 4: # 그 기물이 나 혹은 상대의 포가 아니라면\n",
        "                  is_po = path + 1\n",
        "                  break\n",
        "            if is_po:\n",
        "              for path in range(is_po, dxy[direction][0]): # 기물을 뛰어 넘은 이후부터 경로를 다시 탐색 \n",
        "                if self.enemy_pieces[89 - (bef_x + path) + bef_y * 9] != 0: # 상대편 보드에 기물이 있다면 행동추가 하고 break \n",
        "                  actions.append(self.position_to_action(p, direction))\n",
        "                  break\n",
        "                elif self.pieces[(bef_x + path) + bef_y * 9] != 0: # 내 보드에 기물이 있다면 그냥 break\n",
        "                  break\n",
        "                else:\n",
        "                  actions.append(self.position_to_action(p, direction)) # 둘다 아닐 경우 행동추가\n",
        "            # 좌\n",
        "            is_po = False \n",
        "            for path in range(-1, dxy[direction][0], -1):\n",
        "              if self.pieces[(bef_x + path) + bef_y * 9] != 0 or self.enemy_pieces[89 - (bef_x + path) + bef_y * 9] != 0: # 경로 중 뛰어 넘어 갈 기물이 있다면\n",
        "                if self.pieces[(bef_x + path) + bef_y * 9] != 4 and self.enemy_pieces[89 - (bef_x + path) + bef_y * 9] != 4: # 그 기물이 나 혹은 상대의 포가 아니라면\n",
        "                  is_po = path - 1\n",
        "                  break\n",
        "            if is_po:\n",
        "              for path in range(is_po, dxy[direction][0], -1): # 기물을 뛰어 넘은 이후부터 경로를 다시 탐색 \n",
        "                if self.enemy_pieces[89 - (bef_x + path) + bef_y * 9] != 0: # 상대편 보드에 기물이 있다면 행동추가 하고 break \n",
        "                  actions.append(self.position_to_action(p, direction))\n",
        "                  break\n",
        "                elif self.pieces[(bef_x + path) + bef_y * 9] != 0: # 내 보드에 기물이 있다면 그냥 break\n",
        "                  break\n",
        "                else:\n",
        "                  actions.append(self.position_to_action(p, direction)) # 둘다 아닐 경우 행동추가\n",
        "\n",
        "          # y축의 경우\n",
        "          if dxy[direction][0] == 0 and dxy[direction][1] != 0:\n",
        "            # 상\n",
        "            is_po = False \n",
        "            for path in range(-1, dxy[direction][0], -1): \n",
        "              if self.pieces[bef_x + (bef_y + path) * 9] != 0 or self.enemy_pieces[89 - bef_x + (bef_y + path) * 9] != 0: # 경로 중 뛰어 넘어 갈 기물이 있다면\n",
        "                if self.pieces[(bef_x + (bef_y + path) * 9] != 4 and self.enemy_pieces[89 - bef_x + (bef_y + path) * 9] != 4: # 그 기물이 나 혹은 상대의 포가 아니라면\n",
        "                  is_po = path + -1\n",
        "                  break\n",
        "            if is_po:\n",
        "              for path in range(is_po, dxy[direction][0]): # 기물을 뛰어 넘은 이후부터 경로를 다시 탐색 \n",
        "                if self.enemy_pieces[89 - (bef_x + path) + bef_y * 9] != 0: # 상대편 보드에 기물이 있다면 행동추가 하고 break \n",
        "                  actions.append(self.position_to_action(p, direction))\n",
        "                  break\n",
        "                elif self.pieces[(bef_x + path) + bef_y * 9] != 0: # 내 보드에 기물이 있다면 그냥 break\n",
        "                  break\n",
        "                else:\n",
        "                  actions.append(self.position_to_action(p, direction)) # 둘다 아닐 경우 행동추가\n",
        "            # 하\n",
        "            is_po = False \n",
        "            for path in range(-1, dxy[direction][0], -1):\n",
        "              if self.pieces[(bef_x + path) + bef_y * 9] != 0 or self.enemy_pieces[89 - (bef_x + path) + bef_y * 9] != 0: # 경로 중 뛰어 넘어 갈 기물이 있다면\n",
        "                if self.pieces[(bef_x + path) + bef_y * 9] != 4 and self.enemy_pieces[89 - (bef_x + path) + bef_y * 9] != 4: # 그 기물이 나 혹은 상대의 포가 아니라면\n",
        "                  is_po = path - 1\n",
        "                  break\n",
        "            if is_po:\n",
        "              for path in range(is_po, dxy[direction][0], -1): # 기물을 뛰어 넘은 이후부터 경로를 다시 탐색 \n",
        "                if self.enemy_pieces[89 - (bef_x + path) + bef_y * 9] != 0: # 상대편 보드에 기물이 있다면 행동추가 하고 break \n",
        "                  actions.append(self.position_to_action(p, direction))\n",
        "                  break\n",
        "                elif self.pieces[(bef_x + path) + bef_y * 9] != 0: # 내 보드에 기물이 있다면 그냥 break\n",
        "                  break\n",
        "                else:\n",
        "                  actions.append(self.position_to_action(p, direction)) # 둘다 아닐 경우 행동추가\n",
        "        # 궁성안에 기물이 있을 때 대각선 행동 추가\n",
        "        if dxy[direction][1] != 0 and dxy[direction][0] != 0:\n",
        "\n",
        "            if position_src == 68: # 내 궁성에 있을 때\n",
        "              if pieces[76] == [1, 2, 3, 5, 6, 7] and enemy_pieces[89 - 76] == [1, 2, 3, 5, 6, 7]: # 궁성 가운데 포를 제외한 기물이 있다면\n",
        "                if (dxy[direction][1] == -2 and dxy[direction][0] == 2):\n",
        "                  actions.append(self.position_to_action(p, direction))\n",
        "            if position_src == 5: # 상대방 궁성에 있을 때\n",
        "              if pieces[13] == [1, 2, 3, 5, 6, 7] and enemy_pieces[89 - 13] == [1, 2, 3, 5, 6, 7]:\n",
        "                if (dxy[direction][1] == -2 and dxy[direction][0] == 2):\n",
        "                  actions.append(self.position_to_action(p, direction))\n",
        "\n",
        "            if position_src == 86:\n",
        "              if pieces[76] == [1, 2, 3, 5, 6, 7] and enemy_pieces[89 - 76] == [1, 2, 3, 5, 6, 7]:\n",
        "                if (dxy[direction][1] == -2 and dxy[direction][0] == -2):\n",
        "                  actions.append(self.position_to_action(p, direction))\n",
        "            if position_src == 23:\n",
        "              if pieces[76] == [1, 2, 3, 5, 6, 7] and enemy_pieces[89 - 76] == [1, 2, 3, 5, 6, 7]:\n",
        "                if (dxy[direction][1] == -2 and dxy[direction][0] == -2):\n",
        "                  actions.append(self.position_to_action(p, direction))\n",
        "\n",
        "\n",
        "            if position_src == 84:\n",
        "              if pieces[76] == [1, 2, 3, 5, 6, 7] and enemy_pieces[89 - 76] == [1, 2, 3, 5, 6, 7]:\n",
        "                if (dxy[direction][1] == 2 and dxy[direction][0] == -2):\n",
        "                  actions.append(self.position_to_action(p, direction))\n",
        "            if position_src == 21:\n",
        "              if pieces[76] == [1, 2, 3, 5, 6, 7] and enemy_pieces[89 - 76] == [1, 2, 3, 5, 6, 7]:\n",
        "                if (dxy[direction][1] == 2 and dxy[direction][0] == -2):\n",
        "                  actions.append(self.position_to_action(p, direction))\n",
        "\n",
        "\n",
        "            if position_src == 66:\n",
        "              if pieces[76] == [1, 2, 3, 5, 6, 7] and enemy_pieces[89 - 76] == [1, 2, 3, 5, 6, 7]:\n",
        "                if (dxy[direction][1] == 2 and dxy[direction][0] == 2):\n",
        "                  actions.append(self.position_to_action(p, direction))\n",
        "            if position_src == 3:\n",
        "              if pieces[76] == [1, 2, 3, 5, 6, 7] and enemy_pieces[89 - 76] == [1, 2, 3, 5, 6, 7]:\n",
        "                if (dxy[direction][1] == 2 and dxy[direction][0] == 2):\n",
        "                  actions.append(self.position_to_action(p, direction))\n",
        "          \n",
        "      # 사\n",
        "      elif self.pieces[position_src] == 5:\n",
        "        if 3 <= x and x <= 5 and 7 <= y and y <= 9: # 이동후의 위치가 궁성을 벗어나지 않는 다면\n",
        "          actions.append(self.position_to_action(p, direction)\n",
        "            \n",
        "      # 상 \n",
        "      elif self.pieces[position_src] == 6:\n",
        "        # 상우\n",
        "        if self.pieces[bef_x + (bef_y - 1) * 9] and self.enemy_pieces[89 - bef_x + (bef_y - 1) * 9] == 0:\n",
        "          if self.pieces[(bef_x + 1) + (bef_y - 2) * 9] and self.enemy_pieces[89 - (bef_x + 1) + (bef_y - 2) * 9] == 0:\n",
        "            actions.append(self.position_to_action(p, direction))\n",
        "        # 우상\n",
        "        if self.pieces[(bef_x + 1) + bef_y * 9] and self.enemy_pieces[89 - (bef_x + 1) + bef_y * 9] == 0:\n",
        "          if self.pieces[(bef_x + 2) + (bef_y - 1) * 9] and self.enemy_pieces[89 - (bef_x + 2) + (bef_y - 1) * 9] == 0:\n",
        "            actions.append(self.position_to_action(p, direction)) \n",
        "        # 우하\n",
        "        if self.pieces[(bef_x + 1) + bef_y * 9] and self.enemy_pieces[89 - (bef_x + 1) + bef_y * 9] == 0:\n",
        "          if self.pieces[(bef_x + 2) + (bef_y + 1) * 9] and self.enemy_pieces[89 - (bef_x + 2) + (bef_y + 1) * 9] == 0:\n",
        "            actions.append(self.position_to_action(p, direction)) \n",
        "        # 하우         \n",
        "        if self.pieces[bef_x + (bef_y + 1) * 9] and self.enemy_pieces[89 - bef_x + (bef_y + 1) * 9] == 0:\n",
        "          if self.pieces[(bef_x + 1) + (bef_y + 2) * 9] and self.enemy_pieces[89 - (bef_x + 1) + (bef_y + 2) * 9] == 0:\n",
        "            actions.append(self.position_to_action(p, direction))\n",
        "        # 하좌\n",
        "        if self.pieces[bef_x + (bef_y + 1) * 9] and self.enemy_pieces[89 - bef_x + (bef_y + 1) * 9] == 0:\n",
        "          if self.pieces[(bef_x - 1) + (bef_y + 2) * 9] and self.enemy_pieces[89 - (bef_x - 1) + (bef_y + 2) * 9] == 0:\n",
        "            actions.append(self.position_to_action(p, direction))\n",
        "        # 좌하\n",
        "        if self.pieces[(bef_x - 1) + bef_y * 9] and self.enemy_pieces[89 - (bef_x - 1) + bef_y * 9] == 0:\n",
        "          if self.pieces[(bef_x - 2) + (bef_y + 1) * 9] and self.enemy_pieces[89 - (bef_x - 2) + (bef_y + 1) * 9] == 0:\n",
        "            actions.append(self.position_to_action(p, direction))\n",
        "        # 좌상\n",
        "        if self.pieces[(bef_x - 1) + bef_y * 9] and self.enemy_pieces[89 - (bef_x - 1) + bef_y * 9] == 0:\n",
        "          if self.pieces[(bef_x - 2) + (bef_y - 1) * 9] and self.enemy_pieces[89 - (bef_x - 2) + (bef_y - 1) * 9] == 0:\n",
        "            actions.append(self.position_to_action(p, direction))\n",
        "        # 상좌\n",
        "        if self.pieces[bef_x + (bef_y - 1) * 9] and self.enemy_pieces[89 - bef_x + (bef_y - 1) * 9] == 0:\n",
        "          if self.pieces[(bef_x - 1) + (bef_y - 2) * 9] and self.enemy_pieces[89 - (bef_x - 1) + (bef_y - 2) * 9] == 0:\n",
        "            actions.append(self.position_to_action(p, direction))\n",
        "\n",
        "    # 왕\n",
        "      elif self.pieces[position_src] == 2:\n",
        "        if 3 <= x and x <= 5 and 7 <= y and y <= 9: # 이동후의 위치가 궁성을 벗어나지 않는 다면\n",
        "          actions.append(self.position_to_action(p, direction)\n",
        "  return actions\n",
        "\n"
      ],
      "metadata": {
        "id": "qnoxIFYP0Uva"
      },
      "execution_count": null,
      "outputs": []
    },
    {
      "cell_type": "code",
      "source": [],
      "metadata": {
        "colab": {
          "base_uri": "https://localhost:8080/"
        },
        "id": "3Qpo_24RIGTI",
        "outputId": "3c3dec87-4c47-4aa3-9acf-8937d3495173"
      },
      "execution_count": 9,
      "outputs": [
        {
          "output_type": "stream",
          "name": "stdout",
          "text": [
            "a\n"
          ]
        }
      ]
    },
    {
      "cell_type": "code",
      "source": [
        "def add_actions(self, diresction, bef_x, bef_y, x, y):\n",
        "  if direction "
      ],
      "metadata": {
        "id": "9558wXCKZIht"
      },
      "execution_count": null,
      "outputs": []
    },
    {
      "cell_type": "code",
      "source": [
        "# a = 0\n",
        "# b = 0\n",
        "# if a and b == 0:\n",
        "#   print('a')"
      ],
      "metadata": {
        "id": "j9Hh-xH3NSeo"
      },
      "execution_count": 37,
      "outputs": []
    },
    {
      "cell_type": "code",
      "source": [
        "# a_test = [1,2,3,4,5,6,7,8,9,10]\n",
        "# a_test[(2*2)+1]"
      ],
      "metadata": {
        "colab": {
          "base_uri": "https://localhost:8080/"
        },
        "id": "U1EnQ-I2sSgh",
        "outputId": "98c93b5d-06c9-43f1-dedf-df2cc80e51ec"
      },
      "execution_count": 2,
      "outputs": [
        {
          "output_type": "execute_result",
          "data": {
            "text/plain": [
              "6"
            ]
          },
          "metadata": {},
          "execution_count": 2
        }
      ]
    },
    {
      "cell_type": "code",
      "source": [
        "# def a_test(a):\n",
        "#   a = a\n",
        "#   return print(a)\n",
        "\n",
        "# a_test(7)"
      ],
      "metadata": {
        "colab": {
          "base_uri": "https://localhost:8080/"
        },
        "id": "qvHwKhsMuOkR",
        "outputId": "3145411e-a17f-42f7-f860-6ff686797bad"
      },
      "execution_count": 3,
      "outputs": [
        {
          "output_type": "stream",
          "name": "stdout",
          "text": [
            "7\n"
          ]
        }
      ]
    },
    {
      "cell_type": "code",
      "source": [
        "# # 방향 정수 구현\n",
        "# # 차 : 1, 졸: 2, 마: 3, 포: 4, 사: 5, 상: 6, 왕: 7 \n",
        "\n",
        "\n",
        "# # 차의 방향 정수\n",
        "# # 상하좌우\n",
        "# cha_dir = [[0, -1], [0, -2], [0, -3], [0, -4], [0, -5], [0, -6], [0, -7], [0, -8], [0, -9], \n",
        "#            [0, 1], [0, 2], [0, 3], [0, 4], [0, 5], [0, 6], [0, 7], [0, 8], [0, 9], \n",
        "#            [-1, 0], [-2, 0], [-3, 0], [-4, 0], [-5, 0], [-6, 0], [-7, 0], [-8, 0], \n",
        "#            [1, 0], [2, 0], [3, 0], [4, 0], [5, 0], [6, 0], [7, 0], [8, 0]]\n",
        "\n",
        "# # 졸의 방향 정수\n",
        "# # 상좌우\n",
        "# jol_dir = [[0, -1], [-1, -0], [1, 0]]\n",
        "\n",
        "# # 마의 방향 정수\n",
        "# # 상하좌우\n",
        "# ma_dir = [[-1, -2], [1, -2], [-1, 2], [1, -2], [-2, -1], [-2, 1], [2, -1], [2, 1]]\n",
        "\n",
        "# # 사의 방향 정수 \n",
        "# # 상하좌우, 대각선: 상좌, 상우, 하좌, 하우\n",
        "# sa_dir = [[0, -1], [0, 1], [-1, -0], [1, 0], [-1, -1], [1, -1], [-1, 1], [1, 1]]\n",
        "\n",
        "# # 상의 방향 정수\n",
        "# # 상하좌우\n",
        "# sang_dir = [[-2, -3], [2, -3], [-2, 3], [2, -3], [-3, -2], [-3, 2], [3, -2], [3, 2]]\n",
        "\n",
        "# # 왕의 방향 정수\n",
        "# # 상하좌우, 대각선: 상좌, 상우, 하좌, 하우\n",
        "# wang_dir = [[0, -1], [0, 1], [-1, -0], [1, 0], [-1, -1], [1, -1], [-1, 1], [1, 1]]\n",
        "\n",
        "# print([i for i in range(34)])\n",
        "  "
      ],
      "metadata": {
        "colab": {
          "base_uri": "https://localhost:8080/"
        },
        "id": "pevZiVWo9d2Z",
        "outputId": "2376b1e7-490e-4272-d49c-846d7adefb92"
      },
      "execution_count": 3,
      "outputs": [
        {
          "output_type": "stream",
          "name": "stdout",
          "text": [
            "[0, 1, 2, 3, 4, 5, 6, 7, 8, 9, 10, 11, 12, 13, 14, 15, 16, 17, 18, 19, 20, 21, 22, 23, 24, 25, 26, 27, 28, 29, 30, 31, 32, 33]\n"
          ]
        }
      ]
    },
    {
      "cell_type": "code",
      "source": [
        "# a_test = {}\n",
        "# a_test[1].append([1,1])"
      ],
      "metadata": {
        "colab": {
          "base_uri": "https://localhost:8080/",
          "height": 205
        },
        "id": "IAXCzZzvNUon",
        "outputId": "bf81fd8b-2e6d-47f9-9fcc-fe075c078ddf"
      },
      "execution_count": 57,
      "outputs": [
        {
          "output_type": "error",
          "ename": "KeyError",
          "evalue": "ignored",
          "traceback": [
            "\u001b[0;31m---------------------------------------------------------------------------\u001b[0m",
            "\u001b[0;31mKeyError\u001b[0m                                  Traceback (most recent call last)",
            "\u001b[0;32m<ipython-input-57-e6ec0869ff17>\u001b[0m in \u001b[0;36m<module>\u001b[0;34m\u001b[0m\n\u001b[1;32m      1\u001b[0m \u001b[0ma_test\u001b[0m \u001b[0;34m=\u001b[0m \u001b[0;34m{\u001b[0m\u001b[0;34m}\u001b[0m\u001b[0;34m\u001b[0m\u001b[0;34m\u001b[0m\u001b[0m\n\u001b[0;32m----> 2\u001b[0;31m \u001b[0ma_test\u001b[0m\u001b[0;34m[\u001b[0m\u001b[0;36m0\u001b[0m\u001b[0;34m]\u001b[0m\u001b[0;34m.\u001b[0m\u001b[0mappend\u001b[0m\u001b[0;34m(\u001b[0m\u001b[0;34m[\u001b[0m\u001b[0;36m1\u001b[0m\u001b[0;34m,\u001b[0m\u001b[0;36m1\u001b[0m\u001b[0;34m]\u001b[0m\u001b[0;34m)\u001b[0m\u001b[0;34m\u001b[0m\u001b[0;34m\u001b[0m\u001b[0m\n\u001b[0m\u001b[1;32m      3\u001b[0m \u001b[0ma_test\u001b[0m\u001b[0;34m\u001b[0m\u001b[0;34m\u001b[0m\u001b[0m\n",
            "\u001b[0;31mKeyError\u001b[0m: 0"
          ]
        }
      ]
    },
    {
      "cell_type": "code",
      "source": [
        "# cha_dir = []\n",
        "# list_num = []\n",
        "# # 상\n",
        "# for i in range(1,10):\n",
        "#   list_num.append([0, -i])\n",
        "# cha_dir.append(list_num) \n",
        "# list_num = []  \n",
        "# # 하\n",
        "# for i in range(1,10):\n",
        "#   list_num.append([0, i])\n",
        "# cha_dir.append(list_num)  \n",
        "# list_num = []\n",
        "# # 좌\n",
        "# for i in range(1,9):\n",
        "#   list_num.append([-i, 0])\n",
        "# cha_dir.append(list_num)  \n",
        "# list_num = []\n",
        "# # 우\n",
        "# for i in range(1,9):\n",
        "#   list_num.append([i, 0])\n",
        "# cha_dir.append(list_num)  \n",
        "\n",
        "# print(cha_dir)"
      ],
      "metadata": {
        "colab": {
          "base_uri": "https://localhost:8080/"
        },
        "id": "mZo-x11oOTMv",
        "outputId": "76da797d-8fb7-4c7c-bc8b-f197303b6145"
      },
      "execution_count": 69,
      "outputs": [
        {
          "output_type": "stream",
          "name": "stdout",
          "text": [
            "[[[0, -1], [0, -2], [0, -3], [0, -4], [0, -5], [0, -6], [0, -7], [0, -8], [0, -9]], [[0, 1], [0, 2], [0, 3], [0, 4], [0, 5], [0, 6], [0, 7], [0, 8], [0, 9]], [[-1, 0], [-2, 0], [-3, 0], [-4, 0], [-5, 0], [-6, 0], [-7, 0], [-8, 0]], [[1, 0], [2, 0], [3, 0], [4, 0], [5, 0], [6, 0], [7, 0], [8, 0]]]\n"
          ]
        }
      ]
    },
    {
      "cell_type": "code",
      "source": [
        "# a =[]\n",
        "# a_test = a.append\n",
        "# a_test((1,2))\n",
        "# a"
      ],
      "metadata": {
        "colab": {
          "base_uri": "https://localhost:8080/"
        },
        "id": "zPo-jl6aW5mF",
        "outputId": "7968e50a-0c9c-4443-f93d-0861880d5637"
      },
      "execution_count": 7,
      "outputs": [
        {
          "output_type": "execute_result",
          "data": {
            "text/plain": [
              "[(1, 2)]"
            ]
          },
          "metadata": {},
          "execution_count": 7
        }
      ]
    },
    {
      "cell_type": "code",
      "source": [],
      "metadata": {
        "id": "-fbx-3Slx3uf"
      },
      "execution_count": null,
      "outputs": []
    }
  ]
}